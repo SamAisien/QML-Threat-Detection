{
 "cells": [
  {
   "cell_type": "markdown",
   "id": "140614f0-6255-429b-af21-662907c0d51f",
   "metadata": {},
   "source": [
    "# Quantum Neural Network for User Behavioral Profiling\n",
    "\n",
    "This notebook implements a **Quantum Neural Network (QNN)** for user behavioral profiling using a **LANL authentication dataset**. The code processes raw data, extracts features, clusters users, and trains a QNN to classify user behaviors. Below is a detailed breakdown of each section.\n",
    "\n",
    "## 1. Imports and Setup\n"
   ]
  },
  {
   "cell_type": "code",
   "execution_count": null,
   "id": "bb4ba710-a495-468a-b78c-666b532a685c",
   "metadata": {},
   "outputs": [],
   "source": [
    "import pandas as pd\n",
    "import numpy as np\n",
    "from sklearn.preprocessing import LabelEncoder, MinMaxScaler\n",
    "from sklearn.decomposition import PCA\n",
    "from sklearn.model_selection import train_test_split\n",
    "from sklearn.metrics import classification_report\n",
    "from sklearn.cluster import KMeans\n",
    "import matplotlib.pyplot as plt\n",
    "import seaborn as sns\n",
    "from sklearn.metrics import (\n",
    "    classification_report, confusion_matrix,\n",
    "    roc_curve, roc_auc_score, precision_recall_curve\n",
    ")\n",
    "import torch\n",
    "import torch.nn as nn\n",
    "import torch.nn.functional as F\n",
    "import logging\n",
    "import sys\n",
    "import gc\n",
    "import time"
   ]
  },
  {
   "cell_type": "markdown",
   "id": "537fc220-804b-4293-ae05-c0d520e8d27d",
   "metadata": {},
   "source": [
    "### Purpose:\n",
    "Import necessary libraries for data processing, machine learning, visualization, and quantum neural network implementation.\n",
    "\n",
    "### Key Libraries:\n",
    "- **pandas**, **numpy**: Data manipulation and numerical operations.  \n",
    "- **sklearn**: Preprocessing, clustering, dimensionality reduction, and evaluation metrics.  \n",
    "- **torch**: PyTorch for building and training the QNN.  \n",
    "- **logging**, **gc**, **time**: Logging, memory management, and timing.\n",
    "\n",
    "### Logging Configuration\n"
   ]
  },
  {
   "cell_type": "code",
   "execution_count": null,
   "id": "f9b54677-67b5-48f0-bde2-f829c27d3c89",
   "metadata": {},
   "outputs": [],
   "source": [
    "logging.basicConfig(level=logging.INFO, format='%(asctime)s - %(message)s')\n",
    "console = logging.StreamHandler(sys.stdout)\n",
    "console.setLevel(logging.INFO)\n",
    "logging.getLogger().addHandler(console)"
   ]
  },
  {
   "cell_type": "markdown",
   "id": "4746db9b-b127-49d2-83c7-6d49bb85aab9",
   "metadata": {},
   "source": [
    "**Purpose:**  \n",
    "Set up logging to track progress and debug issues, outputting messages to the console with timestamps.\n"
   ]
  },
  {
   "cell_type": "code",
   "execution_count": null,
   "id": "3d537edc-48ae-4f1b-85cd-0f9eb21c5594",
   "metadata": {},
   "outputs": [],
   "source": [
    "device = torch.device(\"cuda\" if torch.cuda.is_available() else \"cpu\")\n",
    "logging.info(f\"Using device: {device}\")\n",
    "if torch.cuda.is_available():\n",
    "    logging.info(f\"GPU name: {torch.cuda.get_device_name(0)}\")\n",
    "torch.cuda.empty_cache() if torch.cuda.is_available() else None"
   ]
  },
  {
   "cell_type": "markdown",
   "id": "40f503e5-5bea-467a-ba5d-73b0a3f3fdb5",
   "metadata": {},
   "source": [
    "\n",
    "### Device Configuration\n",
    "\n",
    "**Purpose:**  \n",
    "Configure the computation device (GPU if available, else CPU) and clear GPU memory to optimize performance.\n",
    "\n",
    "**Key Parameters:**\n",
    "- `device`: Determines whether computations use CUDA (GPU) or CPU.  \n",
    "- `torch.cuda.empty_cache()`: Frees unused GPU memory."
   ]
  },
  {
   "cell_type": "markdown",
   "id": "b8951aff-9ae7-4976-a4ed-ba685758051e",
   "metadata": {},
   "source": [
    "## 2. Quantum Neural Network Parameters"
   ]
  },
  {
   "cell_type": "code",
   "execution_count": null,
   "id": "5569bbf3-425a-4cc9-82a8-32d817c0ddd0",
   "metadata": {},
   "outputs": [],
   "source": [
    "n_qubits = 2\n",
    "n_layers = 2\n",
    "n_epochs = 150\n",
    "batch_size = 1\n",
    "hidden_dim = 8"
   ]
  },
  {
   "cell_type": "markdown",
   "id": "b3b24480-a45e-4e21-a7c3-152fbabfc435",
   "metadata": {},
   "source": [
    "### Hyperparameter Definition\n",
    "\n",
    "**Purpose:**  \n",
    "Define hyperparameters for the Quantum Neural Network (QNN).\n",
    "\n",
    "**Key Parameters:**\n",
    "- `n_qubits`: Number of qubits (**2**) for the quantum circuit.  \n",
    "- `n_layers`: Number of layers (**2**) in the quantum circuit ansatz.  \n",
    "- `n_epochs`: Training iterations (**150**).  \n",
    "- `batch_size`: Samples per training batch (**1**, due to quantum circuit constraints).  \n",
    "- `hidden_dim`: Hidden layer size (**8**) in the classical neural network component.\n",
    "\n",
    "---\n",
    "\n",
    "## 3. Quantum Circuit Components\n",
    "\n",
    "### Quantum Gates\n"
   ]
  },
  {
   "cell_type": "code",
   "execution_count": null,
   "id": "d0819954-f628-41d8-9cd5-ff2008f0bd0d",
   "metadata": {},
   "outputs": [],
   "source": [
    "def rx_gate(theta):\n",
    "    cos = torch.cos(theta / 2).view(-1, 1, 1)\n",
    "    sin = torch.sin(theta / 2).view(-1, 1, 1)\n",
    "    gate = torch.zeros((theta.shape[0], 2, 2), dtype=torch.complex64, device=device)\n",
    "    gate[:, 0, 0] = cos.squeeze()\n",
    "    gate[:, 0, 1] = -1j * sin.squeeze()\n",
    "    gate[:, 1, 0] = -1j * sin.squeeze()\n",
    "    gate[:, 1, 1] = cos.squeeze()\n",
    "    return gate\n",
    "\n",
    "def ry_gate(theta):\n",
    "    cos = torch.cos(theta / 2).view(-1, 1, 1)\n",
    "    sin = torch.sin(theta / 2).view(-1, 1, 1)\n",
    "    gate = torch.zeros((theta.shape[0], 2, 2), dtype=torch.complex64, device=device)\n",
    "    gate[:, 0, 0] = cos.squeeze()\n",
    "    gate[:, 0, 1] = -sin.squeeze()\n",
    "    gate[:, 1, 0] = sin.squeeze()\n",
    "    gate[:, 1, 1] = cos.squeeze()\n",
    "    return gate\n",
    "\n",
    "def rz_gate(theta):\n",
    "    gate = torch.zeros((theta.shape[0], 2, 2), dtype=torch.complex64, device=device)\n",
    "    gate[:, 0, 0] = torch.exp(-1j * theta / 2).view(-1)\n",
    "    gate[:, 1, 1] = torch.exp(1j * theta / 2).view(-1)\n",
    "    return gate\n",
    "\n",
    "def cnot_gate(batch_size):\n",
    "    gate = torch.tensor([[1, 0, 0, 0],\n",
    "                        [0, 1, 0, 0],\n",
    "                        [0, 0, 0, 1],\n",
    "                        [0, 0, 1, 0]], dtype=torch.complex64, device=device)\n",
    "    return gate.unsqueeze(0).expand(batch_size, 4, 4)"
   ]
  },
  {
   "cell_type": "markdown",
   "id": "17eb1ed1-8369-4ba6-b510-4f126891fbc6",
   "metadata": {},
   "source": [
    "### Quantum Gates\n",
    "\n",
    "**Purpose:**  \n",
    "Define quantum gates (`RX`, `RY`, `RZ`, and `CNOT`) used in the quantum circuit.\n",
    "\n",
    "**Key Details:**\n",
    "- `rx_gate`, `ry_gate`, `rz_gate`: Single-qubit rotation gates parameterized by angle `theta`.  \n",
    "- `cnot_gate`: Two-qubit controlled-NOT gate for entanglement.  \n",
    "- Gates are implemented as batched operations using PyTorch tensors for compatibility with the QNN.\n",
    "\n",
    "---\n",
    "\n",
    "### Quantum Circuit\n"
   ]
  },
  {
   "cell_type": "code",
   "execution_count": null,
   "id": "f5c3259f-6985-4eea-ae51-6bc49c6f1538",
   "metadata": {},
   "outputs": [],
   "source": [
    "def quantum_circuit(X, weights):\n",
    "    X = torch.tensor(X, dtype=torch.float32, device=device)\n",
    "    batch_size = X.shape[0]\n",
    "    if batch_size == 0:\n",
    "        raise ValueError(\"Empty input to quantum_circuit\")\n",
    "    \n",
    "    states = torch.zeros(batch_size, 2**n_qubits, dtype=torch.complex64, device=device)\n",
    "    states[:, 0] = 1\n",
    "    \n",
    "    # ZZFeatureMap encoding\n",
    "    for i in range(n_qubits):\n",
    "        angles = X[:, i % X.shape[1]] * np.pi\n",
    "        rx = rx_gate(angles)\n",
    "        ry = ry_gate(angles)\n",
    "        states = torch.bmm(rx, states.view(batch_size, 2, -1)).view(batch_size, -1)\n",
    "        states = torch.bmm(ry, states.view(batch_size, 2, -1)).view(batch_size, -1)\n",
    "        if i < n_qubits-1:\n",
    "            angles_ij = (np.pi - X[:, i % X.shape[1]]) * (np.pi - X[:, (i+1) % X.shape[1]])\n",
    "            rz_i = rz_gate(angles_ij)\n",
    "            states = torch.bmm(rz_i, states.view(batch_size, 2, -1)).view(batch_size, -1)\n",
    "            states = torch.bmm(cnot_gate(batch_size), states.view(batch_size, 4, -1)).view(batch_size, -1)\n",
    "    \n",
    "    # RealAmplitudes ansatz\n",
    "    for layer in range(n_layers):\n",
    "        for i in range(n_qubits):\n",
    "            rx = rx_gate(weights[layer, i, 0].repeat(batch_size))\n",
    "            ry = ry_gate(weights[layer, i, 1].repeat(batch_size))\n",
    "            rz = rz_gate(weights[layer, i, 2].repeat(batch_size))\n",
    "            states = torch.bmm(rx, states.view(batch_size, 2, -1)).view(batch_size, -1)\n",
    "            states = torch.bmm(ry, states.view(batch_size, 2, -1)).view(batch_size, -1)\n",
    "            states = torch.bmm(rz, states.view(batch_size, 2, -1)).view(batch_size, -1)\n",
    "        for i in range(n_qubits-1):\n",
    "            states = torch.bmm(cnot_gate(batch_size), states.view(batch_size, 4, -1)).view(batch_size, -1)\n",
    "    \n",
    "    # Measure Pauli-Z\n",
    "    obs = torch.diag(torch.tensor([1, -1], dtype=torch.complex64, device=device))\n",
    "    features = []\n",
    "    for i in range(n_qubits):\n",
    "        full_obs = torch.kron(\n",
    "            torch.eye(2**i, dtype=torch.complex64, device=device),\n",
    "            torch.kron(obs, torch.eye(2**(n_qubits-i-1), dtype=torch.complex64, device=device))\n",
    "        )\n",
    "        expvals = torch.real(torch.einsum('bi,ij,bj->b', states.conj(), full_obs, states))\n",
    "        features.append(expvals)\n",
    "    return torch.stack(features, dim=1)"
   ]
  },
  {
   "cell_type": "markdown",
   "id": "ded06d13-90e9-42fb-8841-07e52ce7c339",
   "metadata": {},
   "source": [
    "### Quantum Circuit\n",
    "\n",
    "**Purpose:**  \n",
    "Simulate a quantum circuit that encodes input features and applies a parameterized ansatz to generate quantum features.\n",
    "\n",
    "**Key Components:**\n",
    "- **ZZFeatureMap Encoding**: Encodes classical input data (`X`) into quantum states using `RX`, `RY`, `RZ` gates and `CNOT` for entanglement.  \n",
    "- **RealAmplitudes Ansatz**: Applies parameterized `RX`, `RY`, `RZ` gates and `CNOT` gates in multiple layers to create a trainable quantum circuit.  \n",
    "- **Measurement**: Measures the expectation values of Pauli-Z operators for each qubit, producing quantum features.\n",
    "\n",
    "---\n",
    "\n",
    "## 4. Quantum Neural Network (QNN) Model\n"
   ]
  },
  {
   "cell_type": "code",
   "execution_count": null,
   "id": "277ab57d-d1d9-4107-ae5f-952e252718b9",
   "metadata": {},
   "outputs": [],
   "source": [
    "class QNN(nn.Module):\n",
    "    def __init__(self, n_qubits, n_layers, n_classes, hidden_dim):\n",
    "        super(QNN, self).__init__()\n",
    "        self.n_qubits = n_qubits\n",
    "        self.n_layers = n_layers\n",
    "        self.weights = nn.Parameter(\n",
    "            torch.tensor(np.random.uniform(0, np.pi, (n_layers, n_qubits, 3)),\n",
    "                         dtype=torch.float32, device=device)\n",
    "        )\n",
    "        self.fc1 = nn.Linear(n_qubits, hidden_dim)\n",
    "        self.fc2 = nn.Linear(hidden_dim, n_classes)\n",
    "    \n",
    "    def forward(self, X):\n",
    "        quantum_features = quantum_circuit(X, self.weights)\n",
    "        x = torch.tanh(quantum_features)\n",
    "        x = F.relu(self.fc1(x))\n",
    "        x = self.fc2(x)\n",
    "        return F.softmax(x, dim=1)"
   ]
  },
  {
   "cell_type": "markdown",
   "id": "587c89da-7ff8-41e0-81d8-1affc772886c",
   "metadata": {},
   "source": [
    "### Quantum Neural Network (QNN) Model\n",
    "\n",
    "**Purpose:**  \n",
    "Define a hybrid quantum-classical neural network combining a quantum circuit with classical fully connected layers.\n",
    "\n",
    "**Key Components:**\n",
    "- **Quantum Layer**: Uses `quantum_circuit` to generate quantum features.  \n",
    "- **Classical Layers**: Applies a hyperbolic tangent activation, a hidden layer with ReLU activation, and a final layer with softmax for classification.  \n",
    "- **Parameters**: Quantum circuit weights are initialized randomly between 0 and π.\n",
    "\n",
    "---\n",
    "\n",
    "## 5. Training the QNN\n"
   ]
  },
  {
   "cell_type": "code",
   "execution_count": null,
   "id": "be295c1a-a480-4e6e-8336-033290a81360",
   "metadata": {},
   "outputs": [],
   "source": [
    "def train_qnn(X, y, n_classes, n_components=2):\n",
    "    try:\n",
    "        logging.info(f\"Input shapes: X={X.shape}, y={y.shape}\")\n",
    "        pca = PCA(n_components=n_components)\n",
    "        X_pca = pca.fit_transform(X)\n",
    "        logging.info(f\"PCA output shape: {X_pca.shape}\")\n",
    "        \n",
    "        model = QNN(n_qubits, n_layers, n_classes, hidden_dim).to(device)\n",
    "        optimizer = torch.optim.Adam(model.parameters(), lr=0.01)\n",
    "        \n",
    "        logging.info(\"Training QNN...\")\n",
    "        start_time = time.time()\n",
    "        for epoch in range(n_epochs):\n",
    "            model.train()\n",
    "            optimizer.zero_grad()\n",
    "            total_loss = 0\n",
    "            for i in range(0, len(X_pca), batch_size):\n",
    "                i_end = min(i + batch_size, len(X_pca))\n",
    "                X_batch = X_pca[i:i_end]\n",
    "                y_batch = y[i:i_end]\n",
    "                \n",
    "                probs = model(X_batch)\n",
    "                y_one_hot = F.one_hot(torch.tensor(y_batch, dtype=torch.long, device=device), n_classes).float()\n",
    "                \n",
    "                loss = F.cross_entropy(probs, y_one_hot)\n",
    "                loss.backward()\n",
    "                total_loss += loss.item() * (i_end - i)\n",
    "                \n",
    "                del probs, y_one_hot, loss\n",
    "                torch.cuda.empty_cache()\n",
    "                gc.collect()\n",
    "            \n",
    "            optimizer.step()\n",
    "            avg_loss = total_loss / len(X_pca)\n",
    "            logging.info(f\"Epoch {epoch+1}/{n_epochs}, Loss: {avg_loss:.4f}\")\n",
    "        \n",
    "        logging.info(f\"Training took {time.time() - start_time:.2f}s\")\n",
    "        return model, pca\n",
    "    except Exception as e:\n",
    "        logging.error(f\"Error in QNN training: {e}\")\n",
    "        raise"
   ]
  },
  {
   "cell_type": "markdown",
   "id": "2199857f-651e-42dd-9da1-e62f83e933e8",
   "metadata": {},
   "source": [
    "### Training the QNN\n",
    "\n",
    "**Purpose:**  \n",
    "Train the QNN on preprocessed data with PCA for dimensionality reduction.\n",
    "\n",
    "**Key Steps:**\n",
    "- **PCA**: Reduces input features to `n_components` (default **2**) to match quantum circuit input requirements.  \n",
    "- **Training Loop**: Iterates over `n_epochs`, computing cross-entropy loss for mini-batches, backpropagating, and updating model parameters using the Adam optimizer.  \n",
    "- **Memory Management**: Clears unused tensors and GPU memory to handle small batch sizes.  \n",
    "- **Output**: Returns the trained model and PCA transformer.\n",
    "\n",
    "---\n",
    "\n",
    "## 6. Evaluating the QNN\n"
   ]
  },
  {
   "cell_type": "code",
   "execution_count": null,
   "id": "38b479dd-8494-4c1d-bfee-038803c73a9e",
   "metadata": {},
   "outputs": [],
   "source": [
    "def evaluate_qnn(X, y, model, pca, n_classes):\n",
    "    try:\n",
    "        X_pca = pca.transform(X)\n",
    "        model.eval()\n",
    "        with torch.no_grad():\n",
    "            probs = model(X_pca)\n",
    "            y_pred = torch.argmax(probs, dim=1).cpu().numpy()\n",
    "        report = classification_report(y, y_pred, zero_division=0)\n",
    "        logging.info(\")\n",
    "        return y_pred\n",
    "    except Exception as e:\n",
    "        logging.error(f\"Error in evaluation: {e}\")\n",
    "        raise"
   ]
  },
  {
   "cell_type": "markdown",
   "id": "2f0807bb-e257-457e-815b-cf42755b6885",
   "metadata": {},
   "source": [
    "### Evaluating the QNN\n",
    "\n",
    "**Purpose:**  \n",
    "Evaluate the trained QNN on a test set.\n",
    "\n",
    "**Key Steps:**\n",
    "- Applies PCA transformation to test data.  \n",
    "- Computes predictions using the trained model in evaluation mode.  \n",
    "- Generates a classification report with precision, recall, and F1-score.  \n",
    "- Returns predicted labels.\n",
    "\n",
    "---\n",
    "\n",
    "## 7. Data Loading\n"
   ]
  },
  {
   "cell_type": "code",
   "execution_count": null,
   "id": "d24b5053-be48-409e-a3e2-5f0b8444efd1",
   "metadata": {},
   "outputs": [],
   "source": [
    "def load_data(filepath):\n",
    "    try:\n",
    "        df = pd.read_csv(filepath, nrows=500)\n",
    "        logging.info(f\"Raw data shape: {df.shape}\")\n",
    "        logging.info(f\"Columns: {df.columns.tolist()}\")\n",
    "        df = df.fillna(df.mean(numeric_only=True))\n",
    "        le_user = LabelEncoder()\n",
    "        df['user'] = le_user.fit_transform(df['user'])\n",
    "        return df, le_user\n",
    "    except Exception as e:\n",
    "        logging.error(f\"Error loading data: {e}\")\n",
    "        raise"
   ]
  },
  {
   "cell_type": "markdown",
   "id": "81254576-99c7-416a-80f7-e1b5b2ef8238",
   "metadata": {},
   "source": [
    "### Data Loading\n",
    "\n",
    "**Purpose:**  \n",
    "Load and preprocess the LANL authentication dataset.\n",
    "\n",
    "**Key Steps:**\n",
    "- Reads a CSV file (limited to 500 rows for efficiency).  \n",
    "- Fills missing numeric values with column means.  \n",
    "- Encodes the user column using `LabelEncoder`.  \n",
    "- Returns the processed DataFrame and the label encoder.\n",
    "\n",
    "---\n",
    "\n",
    "## 8. Feature Engineering\n"
   ]
  },
  {
   "cell_type": "code",
   "execution_count": null,
   "id": "164bce32-0433-4591-8c02-0c13043b67ea",
   "metadata": {},
   "outputs": [],
   "source": [
    "def create_behavioral_features(df):\n",
    "    try:\n",
    "        df = df.copy()\n",
    "        categorical_cols = [col for col in df.columns if col != 'user' and df[col].dtype == 'object']\n",
    "        logging.info(f\"Categorical columns: {categorical_cols}\")\n",
    "        for col in categorical_cols:\n",
    "            df[col] = LabelEncoder().fit_transform(df[col].astype(str))\n",
    "        \n",
    "        numeric_cols = [col for col in df.columns if col != 'user']\n",
    "        X = df[numeric_cols].values\n",
    "        \n",
    "        X = np.clip(X, np.percentile(X, 5, axis=0), np.percentile(X, 95, axis=0))\n",
    "        \n",
    "        n_features = min(3, len(numeric_cols))\n",
    "        X = X[:, :n_features]\n",
    "        \n",
    "        scaler = MinMaxScaler()\n",
    "        X = scaler.fit_transform(X)\n",
    "        y = df['user'].values\n",
    "        logging.info(f\"Selected features: {numeric_cols[:n_features]}\")\n",
    "        return X, y, numeric_cols[:n_features]\n",
    "    except Exception as e:\n",
    "        logging.error(f\"Error in feature creation: {e}\")\n",
    "        raise"
   ]
  },
  {
   "cell_type": "markdown",
   "id": "20e9fee6-b986-475c-a7cd-52746effd071",
   "metadata": {},
   "source": [
    "#### Feature Engineering\n",
    "\n",
    "**Purpose:**  \n",
    "Transform raw data into features suitable for the QNN.\n",
    "\n",
    "**Key Steps:**\n",
    "- Encodes categorical columns using `LabelEncoder`.  \n",
    "- Selects numeric columns and clips outliers (5th to 95th percentiles).  \n",
    "- Limits features to a maximum of **3** for computational efficiency.  \n",
    "- Scales features to [0, 1] using `MinMaxScaler`.  \n",
    "- Returns feature matrix `X`, labels `y`, and selected column names.\n",
    "\n",
    "---\n",
    "\n",
    "## 9. User Clustering\n"
   ]
  },
  {
   "cell_type": "code",
   "execution_count": null,
   "id": "98bb4ab7-412b-476b-b361-c361afc06b71",
   "metadata": {},
   "outputs": [],
   "source": [
    "def cluster_users(X, y, n_clusters=3):\n",
    "    try:\n",
    "        scaler = MinMaxScaler()\n",
    "        X_scaled = scaler.fit_transform(X)\n",
    "        \n",
    "        kmeans = KMeans(n_clusters=n_clusters, random_state=42)\n",
    "        cluster_labels = kmeans.fit_predict(X_scaled)\n",
    "        logging.info(f\"Using {n_clusters} clusters\")\n",
    "        return cluster_labels\n",
    "    except Exception as e:\n",
    "        logging.error(f\"Error in clustering: {e}\")\n",
    "        raise"
   ]
  },
  {
   "cell_type": "markdown",
   "id": "b93c3320-aa63-49b3-81f1-4e8da6457225",
   "metadata": {},
   "source": [
    "### User Clustering\n",
    "\n",
    "**Purpose:**  \n",
    "Group users into clusters based on behavioral features.\n",
    "\n",
    "**Key Steps:**\n",
    "- Scales features using `MinMaxScaler`.  \n",
    "- Applies K-means clustering with `n_clusters` (**default 3**).  \n",
    "- Returns cluster labels to replace original user labels.\n",
    "\n",
    "---\n",
    "\n",
    "## 10. Main Execution\n"
   ]
  },
  {
   "cell_type": "code",
   "execution_count": 1,
   "id": "7dfcb2c7-9914-481e-a386-f0d1c70579d1",
   "metadata": {},
   "outputs": [
    {
     "name": "stderr",
     "output_type": "stream",
     "text": [
      "2025-04-13 19:09:06,636 - Using device: cuda\n"
     ]
    },
    {
     "name": "stdout",
     "output_type": "stream",
     "text": [
      "Using device: cuda\n"
     ]
    },
    {
     "name": "stderr",
     "output_type": "stream",
     "text": [
      "2025-04-13 19:09:06,640 - GPU name: NVIDIA T500\n"
     ]
    },
    {
     "name": "stdout",
     "output_type": "stream",
     "text": [
      "GPU name: NVIDIA T500\n"
     ]
    },
    {
     "name": "stderr",
     "output_type": "stream",
     "text": [
      "2025-04-13 19:09:06,661 - Raw data shape: (500, 3)\n"
     ]
    },
    {
     "name": "stdout",
     "output_type": "stream",
     "text": [
      "Raw data shape: (500, 3)\n"
     ]
    },
    {
     "name": "stderr",
     "output_type": "stream",
     "text": [
      "2025-04-13 19:09:06,664 - Columns: ['time', 'user', 'computer']\n"
     ]
    },
    {
     "name": "stdout",
     "output_type": "stream",
     "text": [
      "Columns: ['time', 'user', 'computer']\n"
     ]
    },
    {
     "name": "stderr",
     "output_type": "stream",
     "text": [
      "2025-04-13 19:09:06,668 - Categorical columns: ['computer']\n"
     ]
    },
    {
     "name": "stdout",
     "output_type": "stream",
     "text": [
      "Categorical columns: ['computer']\n"
     ]
    },
    {
     "name": "stderr",
     "output_type": "stream",
     "text": [
      "2025-04-13 19:09:06,673 - Selected features: ['time', 'computer']\n"
     ]
    },
    {
     "name": "stdout",
     "output_type": "stream",
     "text": [
      "Selected features: ['time', 'computer']\n"
     ]
    },
    {
     "name": "stderr",
     "output_type": "stream",
     "text": [
      "2025-04-13 19:09:06,752 - Clustering into 3 user groups...\n"
     ]
    },
    {
     "name": "stdout",
     "output_type": "stream",
     "text": [
      "Clustering into 3 user groups...\n"
     ]
    },
    {
     "name": "stderr",
     "output_type": "stream",
     "text": [
      "2025-04-13 19:09:06,941 - Using 3 clusters\n"
     ]
    },
    {
     "name": "stdout",
     "output_type": "stream",
     "text": [
      "Using 3 clusters\n"
     ]
    },
    {
     "name": "stderr",
     "output_type": "stream",
     "text": [
      "2025-04-13 19:09:06,945 - Using 150 samples\n"
     ]
    },
    {
     "name": "stdout",
     "output_type": "stream",
     "text": [
      "Using 150 samples\n"
     ]
    },
    {
     "name": "stderr",
     "output_type": "stream",
     "text": [
      "2025-04-13 19:09:07,041 - Train shape: (120, 2), Test shape: (30, 2)\n"
     ]
    },
    {
     "name": "stdout",
     "output_type": "stream",
     "text": [
      "Train shape: (120, 2), Test shape: (30, 2)\n"
     ]
    },
    {
     "name": "stderr",
     "output_type": "stream",
     "text": [
      "2025-04-13 19:09:07,142 - Input shapes: X=(120, 2), y=(120,)\n"
     ]
    },
    {
     "name": "stdout",
     "output_type": "stream",
     "text": [
      "Input shapes: X=(120, 2), y=(120,)\n"
     ]
    },
    {
     "name": "stderr",
     "output_type": "stream",
     "text": [
      "2025-04-13 19:09:07,144 - PCA output shape: (120, 2)\n"
     ]
    },
    {
     "name": "stdout",
     "output_type": "stream",
     "text": [
      "PCA output shape: (120, 2)\n"
     ]
    },
    {
     "name": "stderr",
     "output_type": "stream",
     "text": [
      "2025-04-13 19:09:09,060 - Training QNN...\n"
     ]
    },
    {
     "name": "stdout",
     "output_type": "stream",
     "text": [
      "Training QNN...\n"
     ]
    },
    {
     "name": "stderr",
     "output_type": "stream",
     "text": [
      "2025-04-13 19:09:25,552 - Epoch 1/150, Loss: 1.0954\n"
     ]
    },
    {
     "name": "stdout",
     "output_type": "stream",
     "text": [
      "Epoch 1/150, Loss: 1.0954\n"
     ]
    },
    {
     "name": "stderr",
     "output_type": "stream",
     "text": [
      "2025-04-13 19:09:41,606 - Epoch 2/150, Loss: 1.0940\n"
     ]
    },
    {
     "name": "stdout",
     "output_type": "stream",
     "text": [
      "Epoch 2/150, Loss: 1.0940\n"
     ]
    },
    {
     "name": "stderr",
     "output_type": "stream",
     "text": [
      "2025-04-13 19:09:57,692 - Epoch 3/150, Loss: 1.0925\n"
     ]
    },
    {
     "name": "stdout",
     "output_type": "stream",
     "text": [
      "Epoch 3/150, Loss: 1.0925\n"
     ]
    },
    {
     "name": "stderr",
     "output_type": "stream",
     "text": [
      "2025-04-13 19:10:13,996 - Epoch 4/150, Loss: 1.0910\n"
     ]
    },
    {
     "name": "stdout",
     "output_type": "stream",
     "text": [
      "Epoch 4/150, Loss: 1.0910\n"
     ]
    },
    {
     "name": "stderr",
     "output_type": "stream",
     "text": [
      "2025-04-13 19:10:30,294 - Epoch 5/150, Loss: 1.0894\n"
     ]
    },
    {
     "name": "stdout",
     "output_type": "stream",
     "text": [
      "Epoch 5/150, Loss: 1.0894\n"
     ]
    },
    {
     "name": "stderr",
     "output_type": "stream",
     "text": [
      "2025-04-13 19:10:46,274 - Epoch 6/150, Loss: 1.0878\n"
     ]
    },
    {
     "name": "stdout",
     "output_type": "stream",
     "text": [
      "Epoch 6/150, Loss: 1.0878\n"
     ]
    },
    {
     "name": "stderr",
     "output_type": "stream",
     "text": [
      "2025-04-13 19:11:02,648 - Epoch 7/150, Loss: 1.0862\n"
     ]
    },
    {
     "name": "stdout",
     "output_type": "stream",
     "text": [
      "Epoch 7/150, Loss: 1.0862\n"
     ]
    },
    {
     "name": "stderr",
     "output_type": "stream",
     "text": [
      "2025-04-13 19:11:19,170 - Epoch 8/150, Loss: 1.0846\n"
     ]
    },
    {
     "name": "stdout",
     "output_type": "stream",
     "text": [
      "Epoch 8/150, Loss: 1.0846\n"
     ]
    },
    {
     "name": "stderr",
     "output_type": "stream",
     "text": [
      "2025-04-13 19:11:35,549 - Epoch 9/150, Loss: 1.0829\n"
     ]
    },
    {
     "name": "stdout",
     "output_type": "stream",
     "text": [
      "Epoch 9/150, Loss: 1.0829\n"
     ]
    },
    {
     "name": "stderr",
     "output_type": "stream",
     "text": [
      "2025-04-13 19:11:51,515 - Epoch 10/150, Loss: 1.0812\n"
     ]
    },
    {
     "name": "stdout",
     "output_type": "stream",
     "text": [
      "Epoch 10/150, Loss: 1.0812\n"
     ]
    },
    {
     "name": "stderr",
     "output_type": "stream",
     "text": [
      "2025-04-13 19:12:07,806 - Epoch 11/150, Loss: 1.0795\n"
     ]
    },
    {
     "name": "stdout",
     "output_type": "stream",
     "text": [
      "Epoch 11/150, Loss: 1.0795\n"
     ]
    },
    {
     "name": "stderr",
     "output_type": "stream",
     "text": [
      "2025-04-13 19:12:24,283 - Epoch 12/150, Loss: 1.0778\n"
     ]
    },
    {
     "name": "stdout",
     "output_type": "stream",
     "text": [
      "Epoch 12/150, Loss: 1.0778\n"
     ]
    },
    {
     "name": "stderr",
     "output_type": "stream",
     "text": [
      "2025-04-13 19:12:40,854 - Epoch 13/150, Loss: 1.0760\n"
     ]
    },
    {
     "name": "stdout",
     "output_type": "stream",
     "text": [
      "Epoch 13/150, Loss: 1.0760\n"
     ]
    },
    {
     "name": "stderr",
     "output_type": "stream",
     "text": [
      "2025-04-13 19:12:57,631 - Epoch 14/150, Loss: 1.0743\n"
     ]
    },
    {
     "name": "stdout",
     "output_type": "stream",
     "text": [
      "Epoch 14/150, Loss: 1.0743\n"
     ]
    },
    {
     "name": "stderr",
     "output_type": "stream",
     "text": [
      "2025-04-13 19:13:14,012 - Epoch 15/150, Loss: 1.0726\n"
     ]
    },
    {
     "name": "stdout",
     "output_type": "stream",
     "text": [
      "Epoch 15/150, Loss: 1.0726\n"
     ]
    },
    {
     "name": "stderr",
     "output_type": "stream",
     "text": [
      "2025-04-13 19:13:30,089 - Epoch 16/150, Loss: 1.0709\n"
     ]
    },
    {
     "name": "stdout",
     "output_type": "stream",
     "text": [
      "Epoch 16/150, Loss: 1.0709\n"
     ]
    },
    {
     "name": "stderr",
     "output_type": "stream",
     "text": [
      "2025-04-13 19:13:45,858 - Epoch 17/150, Loss: 1.0692\n"
     ]
    },
    {
     "name": "stdout",
     "output_type": "stream",
     "text": [
      "Epoch 17/150, Loss: 1.0692\n"
     ]
    },
    {
     "name": "stderr",
     "output_type": "stream",
     "text": [
      "2025-04-13 19:14:01,885 - Epoch 18/150, Loss: 1.0675\n"
     ]
    },
    {
     "name": "stdout",
     "output_type": "stream",
     "text": [
      "Epoch 18/150, Loss: 1.0675\n"
     ]
    },
    {
     "name": "stderr",
     "output_type": "stream",
     "text": [
      "2025-04-13 19:14:17,880 - Epoch 19/150, Loss: 1.0657\n"
     ]
    },
    {
     "name": "stdout",
     "output_type": "stream",
     "text": [
      "Epoch 19/150, Loss: 1.0657\n"
     ]
    },
    {
     "name": "stderr",
     "output_type": "stream",
     "text": [
      "2025-04-13 19:14:33,640 - Epoch 20/150, Loss: 1.0640\n"
     ]
    },
    {
     "name": "stdout",
     "output_type": "stream",
     "text": [
      "Epoch 20/150, Loss: 1.0640\n"
     ]
    },
    {
     "name": "stderr",
     "output_type": "stream",
     "text": [
      "2025-04-13 19:14:49,959 - Epoch 21/150, Loss: 1.0623\n"
     ]
    },
    {
     "name": "stdout",
     "output_type": "stream",
     "text": [
      "Epoch 21/150, Loss: 1.0623\n"
     ]
    },
    {
     "name": "stderr",
     "output_type": "stream",
     "text": [
      "2025-04-13 19:15:06,257 - Epoch 22/150, Loss: 1.0606\n"
     ]
    },
    {
     "name": "stdout",
     "output_type": "stream",
     "text": [
      "Epoch 22/150, Loss: 1.0606\n"
     ]
    },
    {
     "name": "stderr",
     "output_type": "stream",
     "text": [
      "2025-04-13 19:15:21,911 - Epoch 23/150, Loss: 1.0589\n"
     ]
    },
    {
     "name": "stdout",
     "output_type": "stream",
     "text": [
      "Epoch 23/150, Loss: 1.0589\n"
     ]
    },
    {
     "name": "stderr",
     "output_type": "stream",
     "text": [
      "2025-04-13 19:15:38,065 - Epoch 24/150, Loss: 1.0572\n"
     ]
    },
    {
     "name": "stdout",
     "output_type": "stream",
     "text": [
      "Epoch 24/150, Loss: 1.0572\n"
     ]
    },
    {
     "name": "stderr",
     "output_type": "stream",
     "text": [
      "2025-04-13 19:15:54,027 - Epoch 25/150, Loss: 1.0554\n"
     ]
    },
    {
     "name": "stdout",
     "output_type": "stream",
     "text": [
      "Epoch 25/150, Loss: 1.0554\n"
     ]
    },
    {
     "name": "stderr",
     "output_type": "stream",
     "text": [
      "2025-04-13 19:16:09,990 - Epoch 26/150, Loss: 1.0537\n"
     ]
    },
    {
     "name": "stdout",
     "output_type": "stream",
     "text": [
      "Epoch 26/150, Loss: 1.0537\n"
     ]
    },
    {
     "name": "stderr",
     "output_type": "stream",
     "text": [
      "2025-04-13 19:16:25,733 - Epoch 27/150, Loss: 1.0519\n"
     ]
    },
    {
     "name": "stdout",
     "output_type": "stream",
     "text": [
      "Epoch 27/150, Loss: 1.0519\n"
     ]
    },
    {
     "name": "stderr",
     "output_type": "stream",
     "text": [
      "2025-04-13 19:16:40,826 - Epoch 28/150, Loss: 1.0501\n"
     ]
    },
    {
     "name": "stdout",
     "output_type": "stream",
     "text": [
      "Epoch 28/150, Loss: 1.0501\n"
     ]
    },
    {
     "name": "stderr",
     "output_type": "stream",
     "text": [
      "2025-04-13 19:16:56,172 - Epoch 29/150, Loss: 1.0482\n"
     ]
    },
    {
     "name": "stdout",
     "output_type": "stream",
     "text": [
      "Epoch 29/150, Loss: 1.0482\n"
     ]
    },
    {
     "name": "stderr",
     "output_type": "stream",
     "text": [
      "2025-04-13 19:17:11,852 - Epoch 30/150, Loss: 1.0463\n"
     ]
    },
    {
     "name": "stdout",
     "output_type": "stream",
     "text": [
      "Epoch 30/150, Loss: 1.0463\n"
     ]
    },
    {
     "name": "stderr",
     "output_type": "stream",
     "text": [
      "2025-04-13 19:17:27,407 - Epoch 31/150, Loss: 1.0444\n"
     ]
    },
    {
     "name": "stdout",
     "output_type": "stream",
     "text": [
      "Epoch 31/150, Loss: 1.0444\n"
     ]
    },
    {
     "name": "stderr",
     "output_type": "stream",
     "text": [
      "2025-04-13 19:17:42,871 - Epoch 32/150, Loss: 1.0424\n"
     ]
    },
    {
     "name": "stdout",
     "output_type": "stream",
     "text": [
      "Epoch 32/150, Loss: 1.0424\n"
     ]
    },
    {
     "name": "stderr",
     "output_type": "stream",
     "text": [
      "2025-04-13 19:17:58,656 - Epoch 33/150, Loss: 1.0404\n"
     ]
    },
    {
     "name": "stdout",
     "output_type": "stream",
     "text": [
      "Epoch 33/150, Loss: 1.0404\n"
     ]
    },
    {
     "name": "stderr",
     "output_type": "stream",
     "text": [
      "2025-04-13 19:18:14,728 - Epoch 34/150, Loss: 1.0385\n"
     ]
    },
    {
     "name": "stdout",
     "output_type": "stream",
     "text": [
      "Epoch 34/150, Loss: 1.0385\n"
     ]
    },
    {
     "name": "stderr",
     "output_type": "stream",
     "text": [
      "2025-04-13 19:18:30,719 - Epoch 35/150, Loss: 1.0365\n"
     ]
    },
    {
     "name": "stdout",
     "output_type": "stream",
     "text": [
      "Epoch 35/150, Loss: 1.0365\n"
     ]
    },
    {
     "name": "stderr",
     "output_type": "stream",
     "text": [
      "2025-04-13 19:18:46,015 - Epoch 36/150, Loss: 1.0345\n"
     ]
    },
    {
     "name": "stdout",
     "output_type": "stream",
     "text": [
      "Epoch 36/150, Loss: 1.0345\n"
     ]
    },
    {
     "name": "stderr",
     "output_type": "stream",
     "text": [
      "2025-04-13 19:19:01,266 - Epoch 37/150, Loss: 1.0324\n"
     ]
    },
    {
     "name": "stdout",
     "output_type": "stream",
     "text": [
      "Epoch 37/150, Loss: 1.0324\n"
     ]
    },
    {
     "name": "stderr",
     "output_type": "stream",
     "text": [
      "2025-04-13 19:19:16,600 - Epoch 38/150, Loss: 1.0303\n"
     ]
    },
    {
     "name": "stdout",
     "output_type": "stream",
     "text": [
      "Epoch 38/150, Loss: 1.0303\n"
     ]
    },
    {
     "name": "stderr",
     "output_type": "stream",
     "text": [
      "2025-04-13 19:19:31,964 - Epoch 39/150, Loss: 1.0281\n"
     ]
    },
    {
     "name": "stdout",
     "output_type": "stream",
     "text": [
      "Epoch 39/150, Loss: 1.0281\n"
     ]
    },
    {
     "name": "stderr",
     "output_type": "stream",
     "text": [
      "2025-04-13 19:19:48,562 - Epoch 40/150, Loss: 1.0259\n"
     ]
    },
    {
     "name": "stdout",
     "output_type": "stream",
     "text": [
      "Epoch 40/150, Loss: 1.0259\n"
     ]
    },
    {
     "name": "stderr",
     "output_type": "stream",
     "text": [
      "2025-04-13 19:20:04,758 - Epoch 41/150, Loss: 1.0237\n"
     ]
    },
    {
     "name": "stdout",
     "output_type": "stream",
     "text": [
      "Epoch 41/150, Loss: 1.0237\n"
     ]
    },
    {
     "name": "stderr",
     "output_type": "stream",
     "text": [
      "2025-04-13 19:20:20,370 - Epoch 42/150, Loss: 1.0215\n"
     ]
    },
    {
     "name": "stdout",
     "output_type": "stream",
     "text": [
      "Epoch 42/150, Loss: 1.0215\n"
     ]
    },
    {
     "name": "stderr",
     "output_type": "stream",
     "text": [
      "2025-04-13 19:20:36,032 - Epoch 43/150, Loss: 1.0193\n"
     ]
    },
    {
     "name": "stdout",
     "output_type": "stream",
     "text": [
      "Epoch 43/150, Loss: 1.0193\n"
     ]
    },
    {
     "name": "stderr",
     "output_type": "stream",
     "text": [
      "2025-04-13 19:20:51,483 - Epoch 44/150, Loss: 1.0172\n"
     ]
    },
    {
     "name": "stdout",
     "output_type": "stream",
     "text": [
      "Epoch 44/150, Loss: 1.0172\n"
     ]
    },
    {
     "name": "stderr",
     "output_type": "stream",
     "text": [
      "2025-04-13 19:21:06,796 - Epoch 45/150, Loss: 1.0151\n"
     ]
    },
    {
     "name": "stdout",
     "output_type": "stream",
     "text": [
      "Epoch 45/150, Loss: 1.0151\n"
     ]
    },
    {
     "name": "stderr",
     "output_type": "stream",
     "text": [
      "2025-04-13 19:21:22,559 - Epoch 46/150, Loss: 1.0129\n"
     ]
    },
    {
     "name": "stdout",
     "output_type": "stream",
     "text": [
      "Epoch 46/150, Loss: 1.0129\n"
     ]
    },
    {
     "name": "stderr",
     "output_type": "stream",
     "text": [
      "2025-04-13 19:21:37,944 - Epoch 47/150, Loss: 1.0108\n"
     ]
    },
    {
     "name": "stdout",
     "output_type": "stream",
     "text": [
      "Epoch 47/150, Loss: 1.0108\n"
     ]
    },
    {
     "name": "stderr",
     "output_type": "stream",
     "text": [
      "2025-04-13 19:21:53,438 - Epoch 48/150, Loss: 1.0082\n"
     ]
    },
    {
     "name": "stdout",
     "output_type": "stream",
     "text": [
      "Epoch 48/150, Loss: 1.0082\n"
     ]
    },
    {
     "name": "stderr",
     "output_type": "stream",
     "text": [
      "2025-04-13 19:22:08,845 - Epoch 49/150, Loss: 1.0054\n"
     ]
    },
    {
     "name": "stdout",
     "output_type": "stream",
     "text": [
      "Epoch 49/150, Loss: 1.0054\n"
     ]
    },
    {
     "name": "stderr",
     "output_type": "stream",
     "text": [
      "2025-04-13 19:22:24,039 - Epoch 50/150, Loss: 1.0025\n"
     ]
    },
    {
     "name": "stdout",
     "output_type": "stream",
     "text": [
      "Epoch 50/150, Loss: 1.0025\n"
     ]
    },
    {
     "name": "stderr",
     "output_type": "stream",
     "text": [
      "2025-04-13 19:22:39,621 - Epoch 51/150, Loss: 0.9998\n"
     ]
    },
    {
     "name": "stdout",
     "output_type": "stream",
     "text": [
      "Epoch 51/150, Loss: 0.9998\n"
     ]
    },
    {
     "name": "stderr",
     "output_type": "stream",
     "text": [
      "2025-04-13 19:22:55,285 - Epoch 52/150, Loss: 0.9971\n"
     ]
    },
    {
     "name": "stdout",
     "output_type": "stream",
     "text": [
      "Epoch 52/150, Loss: 0.9971\n"
     ]
    },
    {
     "name": "stderr",
     "output_type": "stream",
     "text": [
      "2025-04-13 19:23:10,572 - Epoch 53/150, Loss: 0.9944\n"
     ]
    },
    {
     "name": "stdout",
     "output_type": "stream",
     "text": [
      "Epoch 53/150, Loss: 0.9944\n"
     ]
    },
    {
     "name": "stderr",
     "output_type": "stream",
     "text": [
      "2025-04-13 19:23:26,519 - Epoch 54/150, Loss: 0.9919\n"
     ]
    },
    {
     "name": "stdout",
     "output_type": "stream",
     "text": [
      "Epoch 54/150, Loss: 0.9919\n"
     ]
    },
    {
     "name": "stderr",
     "output_type": "stream",
     "text": [
      "2025-04-13 19:23:42,861 - Epoch 55/150, Loss: 0.9894\n"
     ]
    },
    {
     "name": "stdout",
     "output_type": "stream",
     "text": [
      "Epoch 55/150, Loss: 0.9894\n"
     ]
    },
    {
     "name": "stderr",
     "output_type": "stream",
     "text": [
      "2025-04-13 19:23:58,344 - Epoch 56/150, Loss: 0.9871\n"
     ]
    },
    {
     "name": "stdout",
     "output_type": "stream",
     "text": [
      "Epoch 56/150, Loss: 0.9871\n"
     ]
    },
    {
     "name": "stderr",
     "output_type": "stream",
     "text": [
      "2025-04-13 19:24:14,072 - Epoch 57/150, Loss: 0.9850\n"
     ]
    },
    {
     "name": "stdout",
     "output_type": "stream",
     "text": [
      "Epoch 57/150, Loss: 0.9850\n"
     ]
    },
    {
     "name": "stderr",
     "output_type": "stream",
     "text": [
      "2025-04-13 19:24:29,746 - Epoch 58/150, Loss: 0.9828\n"
     ]
    },
    {
     "name": "stdout",
     "output_type": "stream",
     "text": [
      "Epoch 58/150, Loss: 0.9828\n"
     ]
    },
    {
     "name": "stderr",
     "output_type": "stream",
     "text": [
      "2025-04-13 19:24:45,219 - Epoch 59/150, Loss: 0.9807\n"
     ]
    },
    {
     "name": "stdout",
     "output_type": "stream",
     "text": [
      "Epoch 59/150, Loss: 0.9807\n"
     ]
    },
    {
     "name": "stderr",
     "output_type": "stream",
     "text": [
      "2025-04-13 19:25:00,518 - Epoch 60/150, Loss: 0.9784\n"
     ]
    },
    {
     "name": "stdout",
     "output_type": "stream",
     "text": [
      "Epoch 60/150, Loss: 0.9784\n"
     ]
    },
    {
     "name": "stderr",
     "output_type": "stream",
     "text": [
      "2025-04-13 19:25:16,255 - Epoch 61/150, Loss: 0.9762\n"
     ]
    },
    {
     "name": "stdout",
     "output_type": "stream",
     "text": [
      "Epoch 61/150, Loss: 0.9762\n"
     ]
    },
    {
     "name": "stderr",
     "output_type": "stream",
     "text": [
      "2025-04-13 19:25:32,025 - Epoch 62/150, Loss: 0.9740\n"
     ]
    },
    {
     "name": "stdout",
     "output_type": "stream",
     "text": [
      "Epoch 62/150, Loss: 0.9740\n"
     ]
    },
    {
     "name": "stderr",
     "output_type": "stream",
     "text": [
      "2025-04-13 19:25:47,477 - Epoch 63/150, Loss: 0.9717\n"
     ]
    },
    {
     "name": "stdout",
     "output_type": "stream",
     "text": [
      "Epoch 63/150, Loss: 0.9717\n"
     ]
    },
    {
     "name": "stderr",
     "output_type": "stream",
     "text": [
      "2025-04-13 19:26:03,335 - Epoch 64/150, Loss: 0.9697\n"
     ]
    },
    {
     "name": "stdout",
     "output_type": "stream",
     "text": [
      "Epoch 64/150, Loss: 0.9697\n"
     ]
    },
    {
     "name": "stderr",
     "output_type": "stream",
     "text": [
      "2025-04-13 19:26:19,067 - Epoch 65/150, Loss: 0.9678\n"
     ]
    },
    {
     "name": "stdout",
     "output_type": "stream",
     "text": [
      "Epoch 65/150, Loss: 0.9678\n"
     ]
    },
    {
     "name": "stderr",
     "output_type": "stream",
     "text": [
      "2025-04-13 19:26:34,612 - Epoch 66/150, Loss: 0.9657\n"
     ]
    },
    {
     "name": "stdout",
     "output_type": "stream",
     "text": [
      "Epoch 66/150, Loss: 0.9657\n"
     ]
    },
    {
     "name": "stderr",
     "output_type": "stream",
     "text": [
      "2025-04-13 19:26:50,153 - Epoch 67/150, Loss: 0.9636\n"
     ]
    },
    {
     "name": "stdout",
     "output_type": "stream",
     "text": [
      "Epoch 67/150, Loss: 0.9636\n"
     ]
    },
    {
     "name": "stderr",
     "output_type": "stream",
     "text": [
      "2025-04-13 19:27:06,766 - Epoch 68/150, Loss: 0.9615\n"
     ]
    },
    {
     "name": "stdout",
     "output_type": "stream",
     "text": [
      "Epoch 68/150, Loss: 0.9615\n"
     ]
    },
    {
     "name": "stderr",
     "output_type": "stream",
     "text": [
      "2025-04-13 19:27:22,501 - Epoch 69/150, Loss: 0.9596\n"
     ]
    },
    {
     "name": "stdout",
     "output_type": "stream",
     "text": [
      "Epoch 69/150, Loss: 0.9596\n"
     ]
    },
    {
     "name": "stderr",
     "output_type": "stream",
     "text": [
      "2025-04-13 19:27:38,107 - Epoch 70/150, Loss: 0.9578\n"
     ]
    },
    {
     "name": "stdout",
     "output_type": "stream",
     "text": [
      "Epoch 70/150, Loss: 0.9578\n"
     ]
    },
    {
     "name": "stderr",
     "output_type": "stream",
     "text": [
      "2025-04-13 19:27:53,538 - Epoch 71/150, Loss: 0.9560\n"
     ]
    },
    {
     "name": "stdout",
     "output_type": "stream",
     "text": [
      "Epoch 71/150, Loss: 0.9560\n"
     ]
    },
    {
     "name": "stderr",
     "output_type": "stream",
     "text": [
      "2025-04-13 19:28:09,438 - Epoch 72/150, Loss: 0.9543\n"
     ]
    },
    {
     "name": "stdout",
     "output_type": "stream",
     "text": [
      "Epoch 72/150, Loss: 0.9543\n"
     ]
    },
    {
     "name": "stderr",
     "output_type": "stream",
     "text": [
      "2025-04-13 19:28:24,665 - Epoch 73/150, Loss: 0.9526\n"
     ]
    },
    {
     "name": "stdout",
     "output_type": "stream",
     "text": [
      "Epoch 73/150, Loss: 0.9526\n"
     ]
    },
    {
     "name": "stderr",
     "output_type": "stream",
     "text": [
      "2025-04-13 19:28:40,242 - Epoch 74/150, Loss: 0.9509\n"
     ]
    },
    {
     "name": "stdout",
     "output_type": "stream",
     "text": [
      "Epoch 74/150, Loss: 0.9509\n"
     ]
    },
    {
     "name": "stderr",
     "output_type": "stream",
     "text": [
      "2025-04-13 19:28:56,940 - Epoch 75/150, Loss: 0.9491\n"
     ]
    },
    {
     "name": "stdout",
     "output_type": "stream",
     "text": [
      "Epoch 75/150, Loss: 0.9491\n"
     ]
    },
    {
     "name": "stderr",
     "output_type": "stream",
     "text": [
      "2025-04-13 19:29:13,076 - Epoch 76/150, Loss: 0.9474\n"
     ]
    },
    {
     "name": "stdout",
     "output_type": "stream",
     "text": [
      "Epoch 76/150, Loss: 0.9474\n"
     ]
    },
    {
     "name": "stderr",
     "output_type": "stream",
     "text": [
      "2025-04-13 19:29:28,251 - Epoch 77/150, Loss: 0.9458\n"
     ]
    },
    {
     "name": "stdout",
     "output_type": "stream",
     "text": [
      "Epoch 77/150, Loss: 0.9458\n"
     ]
    },
    {
     "name": "stderr",
     "output_type": "stream",
     "text": [
      "2025-04-13 19:29:43,225 - Epoch 78/150, Loss: 0.9443\n"
     ]
    },
    {
     "name": "stdout",
     "output_type": "stream",
     "text": [
      "Epoch 78/150, Loss: 0.9443\n"
     ]
    },
    {
     "name": "stderr",
     "output_type": "stream",
     "text": [
      "2025-04-13 19:29:59,832 - Epoch 79/150, Loss: 0.9427\n"
     ]
    },
    {
     "name": "stdout",
     "output_type": "stream",
     "text": [
      "Epoch 79/150, Loss: 0.9427\n"
     ]
    },
    {
     "name": "stderr",
     "output_type": "stream",
     "text": [
      "2025-04-13 19:30:14,394 - Epoch 80/150, Loss: 0.9412\n"
     ]
    },
    {
     "name": "stdout",
     "output_type": "stream",
     "text": [
      "Epoch 80/150, Loss: 0.9412\n"
     ]
    },
    {
     "name": "stderr",
     "output_type": "stream",
     "text": [
      "2025-04-13 19:30:28,716 - Epoch 81/150, Loss: 0.9397\n"
     ]
    },
    {
     "name": "stdout",
     "output_type": "stream",
     "text": [
      "Epoch 81/150, Loss: 0.9397\n"
     ]
    },
    {
     "name": "stderr",
     "output_type": "stream",
     "text": [
      "2025-04-13 19:30:43,526 - Epoch 82/150, Loss: 0.9383\n"
     ]
    },
    {
     "name": "stdout",
     "output_type": "stream",
     "text": [
      "Epoch 82/150, Loss: 0.9383\n"
     ]
    },
    {
     "name": "stderr",
     "output_type": "stream",
     "text": [
      "2025-04-13 19:30:58,428 - Epoch 83/150, Loss: 0.9369\n"
     ]
    },
    {
     "name": "stdout",
     "output_type": "stream",
     "text": [
      "Epoch 83/150, Loss: 0.9369\n"
     ]
    },
    {
     "name": "stderr",
     "output_type": "stream",
     "text": [
      "2025-04-13 19:31:13,443 - Epoch 84/150, Loss: 0.9355\n"
     ]
    },
    {
     "name": "stdout",
     "output_type": "stream",
     "text": [
      "Epoch 84/150, Loss: 0.9355\n"
     ]
    },
    {
     "name": "stderr",
     "output_type": "stream",
     "text": [
      "2025-04-13 19:31:28,630 - Epoch 85/150, Loss: 0.9341\n"
     ]
    },
    {
     "name": "stdout",
     "output_type": "stream",
     "text": [
      "Epoch 85/150, Loss: 0.9341\n"
     ]
    },
    {
     "name": "stderr",
     "output_type": "stream",
     "text": [
      "2025-04-13 19:31:43,640 - Epoch 86/150, Loss: 0.9327\n"
     ]
    },
    {
     "name": "stdout",
     "output_type": "stream",
     "text": [
      "Epoch 86/150, Loss: 0.9327\n"
     ]
    },
    {
     "name": "stderr",
     "output_type": "stream",
     "text": [
      "2025-04-13 19:31:58,606 - Epoch 87/150, Loss: 0.9314\n"
     ]
    },
    {
     "name": "stdout",
     "output_type": "stream",
     "text": [
      "Epoch 87/150, Loss: 0.9314\n"
     ]
    },
    {
     "name": "stderr",
     "output_type": "stream",
     "text": [
      "2025-04-13 19:32:13,599 - Epoch 88/150, Loss: 0.9300\n"
     ]
    },
    {
     "name": "stdout",
     "output_type": "stream",
     "text": [
      "Epoch 88/150, Loss: 0.9300\n"
     ]
    },
    {
     "name": "stderr",
     "output_type": "stream",
     "text": [
      "2025-04-13 19:32:28,535 - Epoch 89/150, Loss: 0.9287\n"
     ]
    },
    {
     "name": "stdout",
     "output_type": "stream",
     "text": [
      "Epoch 89/150, Loss: 0.9287\n"
     ]
    },
    {
     "name": "stderr",
     "output_type": "stream",
     "text": [
      "2025-04-13 19:32:43,261 - Epoch 90/150, Loss: 0.9275\n"
     ]
    },
    {
     "name": "stdout",
     "output_type": "stream",
     "text": [
      "Epoch 90/150, Loss: 0.9275\n"
     ]
    },
    {
     "name": "stderr",
     "output_type": "stream",
     "text": [
      "2025-04-13 19:32:58,584 - Epoch 91/150, Loss: 0.9262\n"
     ]
    },
    {
     "name": "stdout",
     "output_type": "stream",
     "text": [
      "Epoch 91/150, Loss: 0.9262\n"
     ]
    },
    {
     "name": "stderr",
     "output_type": "stream",
     "text": [
      "2025-04-13 19:33:14,316 - Epoch 92/150, Loss: 0.9250\n"
     ]
    },
    {
     "name": "stdout",
     "output_type": "stream",
     "text": [
      "Epoch 92/150, Loss: 0.9250\n"
     ]
    },
    {
     "name": "stderr",
     "output_type": "stream",
     "text": [
      "2025-04-13 19:33:30,205 - Epoch 93/150, Loss: 0.9237\n"
     ]
    },
    {
     "name": "stdout",
     "output_type": "stream",
     "text": [
      "Epoch 93/150, Loss: 0.9237\n"
     ]
    },
    {
     "name": "stderr",
     "output_type": "stream",
     "text": [
      "2025-04-13 19:33:46,282 - Epoch 94/150, Loss: 0.9225\n"
     ]
    },
    {
     "name": "stdout",
     "output_type": "stream",
     "text": [
      "Epoch 94/150, Loss: 0.9225\n"
     ]
    },
    {
     "name": "stderr",
     "output_type": "stream",
     "text": [
      "2025-04-13 19:34:01,721 - Epoch 95/150, Loss: 0.9213\n"
     ]
    },
    {
     "name": "stdout",
     "output_type": "stream",
     "text": [
      "Epoch 95/150, Loss: 0.9213\n"
     ]
    },
    {
     "name": "stderr",
     "output_type": "stream",
     "text": [
      "2025-04-13 19:34:17,699 - Epoch 96/150, Loss: 0.9201\n"
     ]
    },
    {
     "name": "stdout",
     "output_type": "stream",
     "text": [
      "Epoch 96/150, Loss: 0.9201\n"
     ]
    },
    {
     "name": "stderr",
     "output_type": "stream",
     "text": [
      "2025-04-13 19:34:38,512 - Epoch 97/150, Loss: 0.9189\n"
     ]
    },
    {
     "name": "stdout",
     "output_type": "stream",
     "text": [
      "Epoch 97/150, Loss: 0.9189\n"
     ]
    },
    {
     "name": "stderr",
     "output_type": "stream",
     "text": [
      "2025-04-13 19:34:59,507 - Epoch 98/150, Loss: 0.9178\n"
     ]
    },
    {
     "name": "stdout",
     "output_type": "stream",
     "text": [
      "Epoch 98/150, Loss: 0.9178\n"
     ]
    },
    {
     "name": "stderr",
     "output_type": "stream",
     "text": [
      "2025-04-13 19:35:20,581 - Epoch 99/150, Loss: 0.9166\n"
     ]
    },
    {
     "name": "stdout",
     "output_type": "stream",
     "text": [
      "Epoch 99/150, Loss: 0.9166\n"
     ]
    },
    {
     "name": "stderr",
     "output_type": "stream",
     "text": [
      "2025-04-13 19:35:47,664 - Epoch 100/150, Loss: 0.9154\n"
     ]
    },
    {
     "name": "stdout",
     "output_type": "stream",
     "text": [
      "Epoch 100/150, Loss: 0.9154\n"
     ]
    },
    {
     "name": "stderr",
     "output_type": "stream",
     "text": [
      "2025-04-13 19:36:08,495 - Epoch 101/150, Loss: 0.9143\n"
     ]
    },
    {
     "name": "stdout",
     "output_type": "stream",
     "text": [
      "Epoch 101/150, Loss: 0.9143\n"
     ]
    },
    {
     "name": "stderr",
     "output_type": "stream",
     "text": [
      "2025-04-13 19:36:27,944 - Epoch 102/150, Loss: 0.9131\n"
     ]
    },
    {
     "name": "stdout",
     "output_type": "stream",
     "text": [
      "Epoch 102/150, Loss: 0.9131\n"
     ]
    },
    {
     "name": "stderr",
     "output_type": "stream",
     "text": [
      "2025-04-13 19:36:43,772 - Epoch 103/150, Loss: 0.9120\n"
     ]
    },
    {
     "name": "stdout",
     "output_type": "stream",
     "text": [
      "Epoch 103/150, Loss: 0.9120\n"
     ]
    },
    {
     "name": "stderr",
     "output_type": "stream",
     "text": [
      "2025-04-13 19:37:00,022 - Epoch 104/150, Loss: 0.9108\n"
     ]
    },
    {
     "name": "stdout",
     "output_type": "stream",
     "text": [
      "Epoch 104/150, Loss: 0.9108\n"
     ]
    },
    {
     "name": "stderr",
     "output_type": "stream",
     "text": [
      "2025-04-13 19:37:15,655 - Epoch 105/150, Loss: 0.9096\n"
     ]
    },
    {
     "name": "stdout",
     "output_type": "stream",
     "text": [
      "Epoch 105/150, Loss: 0.9096\n"
     ]
    },
    {
     "name": "stderr",
     "output_type": "stream",
     "text": [
      "2025-04-13 19:37:31,231 - Epoch 106/150, Loss: 0.9084\n"
     ]
    },
    {
     "name": "stdout",
     "output_type": "stream",
     "text": [
      "Epoch 106/150, Loss: 0.9084\n"
     ]
    },
    {
     "name": "stderr",
     "output_type": "stream",
     "text": [
      "2025-04-13 19:37:47,057 - Epoch 107/150, Loss: 0.9072\n"
     ]
    },
    {
     "name": "stdout",
     "output_type": "stream",
     "text": [
      "Epoch 107/150, Loss: 0.9072\n"
     ]
    },
    {
     "name": "stderr",
     "output_type": "stream",
     "text": [
      "2025-04-13 19:38:02,661 - Epoch 108/150, Loss: 0.9059\n"
     ]
    },
    {
     "name": "stdout",
     "output_type": "stream",
     "text": [
      "Epoch 108/150, Loss: 0.9059\n"
     ]
    },
    {
     "name": "stderr",
     "output_type": "stream",
     "text": [
      "2025-04-13 19:38:18,697 - Epoch 109/150, Loss: 0.9046\n"
     ]
    },
    {
     "name": "stdout",
     "output_type": "stream",
     "text": [
      "Epoch 109/150, Loss: 0.9046\n"
     ]
    },
    {
     "name": "stderr",
     "output_type": "stream",
     "text": [
      "2025-04-13 19:38:36,116 - Epoch 110/150, Loss: 0.9032\n"
     ]
    },
    {
     "name": "stdout",
     "output_type": "stream",
     "text": [
      "Epoch 110/150, Loss: 0.9032\n"
     ]
    },
    {
     "name": "stderr",
     "output_type": "stream",
     "text": [
      "2025-04-13 19:38:52,148 - Epoch 111/150, Loss: 0.9019\n"
     ]
    },
    {
     "name": "stdout",
     "output_type": "stream",
     "text": [
      "Epoch 111/150, Loss: 0.9019\n"
     ]
    },
    {
     "name": "stderr",
     "output_type": "stream",
     "text": [
      "2025-04-13 19:39:08,156 - Epoch 112/150, Loss: 0.9004\n"
     ]
    },
    {
     "name": "stdout",
     "output_type": "stream",
     "text": [
      "Epoch 112/150, Loss: 0.9004\n"
     ]
    },
    {
     "name": "stderr",
     "output_type": "stream",
     "text": [
      "2025-04-13 19:39:23,672 - Epoch 113/150, Loss: 0.8988\n"
     ]
    },
    {
     "name": "stdout",
     "output_type": "stream",
     "text": [
      "Epoch 113/150, Loss: 0.8988\n"
     ]
    },
    {
     "name": "stderr",
     "output_type": "stream",
     "text": [
      "2025-04-13 19:39:39,282 - Epoch 114/150, Loss: 0.8971\n"
     ]
    },
    {
     "name": "stdout",
     "output_type": "stream",
     "text": [
      "Epoch 114/150, Loss: 0.8971\n"
     ]
    },
    {
     "name": "stderr",
     "output_type": "stream",
     "text": [
      "2025-04-13 19:39:54,912 - Epoch 115/150, Loss: 0.8957\n"
     ]
    },
    {
     "name": "stdout",
     "output_type": "stream",
     "text": [
      "Epoch 115/150, Loss: 0.8957\n"
     ]
    },
    {
     "name": "stderr",
     "output_type": "stream",
     "text": [
      "2025-04-13 19:40:10,663 - Epoch 116/150, Loss: 0.8941\n"
     ]
    },
    {
     "name": "stdout",
     "output_type": "stream",
     "text": [
      "Epoch 116/150, Loss: 0.8941\n"
     ]
    },
    {
     "name": "stderr",
     "output_type": "stream",
     "text": [
      "2025-04-13 19:40:26,267 - Epoch 117/150, Loss: 0.8923\n"
     ]
    },
    {
     "name": "stdout",
     "output_type": "stream",
     "text": [
      "Epoch 117/150, Loss: 0.8923\n"
     ]
    },
    {
     "name": "stderr",
     "output_type": "stream",
     "text": [
      "2025-04-13 19:40:41,824 - Epoch 118/150, Loss: 0.8906\n"
     ]
    },
    {
     "name": "stdout",
     "output_type": "stream",
     "text": [
      "Epoch 118/150, Loss: 0.8906\n"
     ]
    },
    {
     "name": "stderr",
     "output_type": "stream",
     "text": [
      "2025-04-13 19:40:57,443 - Epoch 119/150, Loss: 0.8890\n"
     ]
    },
    {
     "name": "stdout",
     "output_type": "stream",
     "text": [
      "Epoch 119/150, Loss: 0.8890\n"
     ]
    },
    {
     "name": "stderr",
     "output_type": "stream",
     "text": [
      "2025-04-13 19:41:12,864 - Epoch 120/150, Loss: 0.8872\n"
     ]
    },
    {
     "name": "stdout",
     "output_type": "stream",
     "text": [
      "Epoch 120/150, Loss: 0.8872\n"
     ]
    },
    {
     "name": "stderr",
     "output_type": "stream",
     "text": [
      "2025-04-13 19:41:28,949 - Epoch 121/150, Loss: 0.8855\n"
     ]
    },
    {
     "name": "stdout",
     "output_type": "stream",
     "text": [
      "Epoch 121/150, Loss: 0.8855\n"
     ]
    },
    {
     "name": "stderr",
     "output_type": "stream",
     "text": [
      "2025-04-13 19:41:44,933 - Epoch 122/150, Loss: 0.8838\n"
     ]
    },
    {
     "name": "stdout",
     "output_type": "stream",
     "text": [
      "Epoch 122/150, Loss: 0.8838\n"
     ]
    },
    {
     "name": "stderr",
     "output_type": "stream",
     "text": [
      "2025-04-13 19:42:01,235 - Epoch 123/150, Loss: 0.8820\n"
     ]
    },
    {
     "name": "stdout",
     "output_type": "stream",
     "text": [
      "Epoch 123/150, Loss: 0.8820\n"
     ]
    },
    {
     "name": "stderr",
     "output_type": "stream",
     "text": [
      "2025-04-13 19:42:17,183 - Epoch 124/150, Loss: 0.8802\n"
     ]
    },
    {
     "name": "stdout",
     "output_type": "stream",
     "text": [
      "Epoch 124/150, Loss: 0.8802\n"
     ]
    },
    {
     "name": "stderr",
     "output_type": "stream",
     "text": [
      "2025-04-13 19:42:33,528 - Epoch 125/150, Loss: 0.8783\n"
     ]
    },
    {
     "name": "stdout",
     "output_type": "stream",
     "text": [
      "Epoch 125/150, Loss: 0.8783\n"
     ]
    },
    {
     "name": "stderr",
     "output_type": "stream",
     "text": [
      "2025-04-13 19:42:50,152 - Epoch 126/150, Loss: 0.8766\n"
     ]
    },
    {
     "name": "stdout",
     "output_type": "stream",
     "text": [
      "Epoch 126/150, Loss: 0.8766\n"
     ]
    },
    {
     "name": "stderr",
     "output_type": "stream",
     "text": [
      "2025-04-13 19:43:06,108 - Epoch 127/150, Loss: 0.8748\n"
     ]
    },
    {
     "name": "stdout",
     "output_type": "stream",
     "text": [
      "Epoch 127/150, Loss: 0.8748\n"
     ]
    },
    {
     "name": "stderr",
     "output_type": "stream",
     "text": [
      "2025-04-13 19:43:21,598 - Epoch 128/150, Loss: 0.8731\n"
     ]
    },
    {
     "name": "stdout",
     "output_type": "stream",
     "text": [
      "Epoch 128/150, Loss: 0.8731\n"
     ]
    },
    {
     "name": "stderr",
     "output_type": "stream",
     "text": [
      "2025-04-13 19:43:37,169 - Epoch 129/150, Loss: 0.8715\n"
     ]
    },
    {
     "name": "stdout",
     "output_type": "stream",
     "text": [
      "Epoch 129/150, Loss: 0.8715\n"
     ]
    },
    {
     "name": "stderr",
     "output_type": "stream",
     "text": [
      "2025-04-13 19:43:52,540 - Epoch 130/150, Loss: 0.8698\n"
     ]
    },
    {
     "name": "stdout",
     "output_type": "stream",
     "text": [
      "Epoch 130/150, Loss: 0.8698\n"
     ]
    },
    {
     "name": "stderr",
     "output_type": "stream",
     "text": [
      "2025-04-13 19:44:07,989 - Epoch 131/150, Loss: 0.8680\n"
     ]
    },
    {
     "name": "stdout",
     "output_type": "stream",
     "text": [
      "Epoch 131/150, Loss: 0.8680\n"
     ]
    },
    {
     "name": "stderr",
     "output_type": "stream",
     "text": [
      "2025-04-13 19:44:23,479 - Epoch 132/150, Loss: 0.8664\n"
     ]
    },
    {
     "name": "stdout",
     "output_type": "stream",
     "text": [
      "Epoch 132/150, Loss: 0.8664\n"
     ]
    },
    {
     "name": "stderr",
     "output_type": "stream",
     "text": [
      "2025-04-13 19:44:39,102 - Epoch 133/150, Loss: 0.8647\n"
     ]
    },
    {
     "name": "stdout",
     "output_type": "stream",
     "text": [
      "Epoch 133/150, Loss: 0.8647\n"
     ]
    },
    {
     "name": "stderr",
     "output_type": "stream",
     "text": [
      "2025-04-13 19:44:54,477 - Epoch 134/150, Loss: 0.8631\n"
     ]
    },
    {
     "name": "stdout",
     "output_type": "stream",
     "text": [
      "Epoch 134/150, Loss: 0.8631\n"
     ]
    },
    {
     "name": "stderr",
     "output_type": "stream",
     "text": [
      "2025-04-13 19:45:11,679 - Epoch 135/150, Loss: 0.8615\n"
     ]
    },
    {
     "name": "stdout",
     "output_type": "stream",
     "text": [
      "Epoch 135/150, Loss: 0.8615\n"
     ]
    },
    {
     "name": "stderr",
     "output_type": "stream",
     "text": [
      "2025-04-13 19:45:27,295 - Epoch 136/150, Loss: 0.8598\n"
     ]
    },
    {
     "name": "stdout",
     "output_type": "stream",
     "text": [
      "Epoch 136/150, Loss: 0.8598\n"
     ]
    },
    {
     "name": "stderr",
     "output_type": "stream",
     "text": [
      "2025-04-13 19:45:43,026 - Epoch 137/150, Loss: 0.8582\n"
     ]
    },
    {
     "name": "stdout",
     "output_type": "stream",
     "text": [
      "Epoch 137/150, Loss: 0.8582\n"
     ]
    },
    {
     "name": "stderr",
     "output_type": "stream",
     "text": [
      "2025-04-13 19:45:58,321 - Epoch 138/150, Loss: 0.8566\n"
     ]
    },
    {
     "name": "stdout",
     "output_type": "stream",
     "text": [
      "Epoch 138/150, Loss: 0.8566\n"
     ]
    },
    {
     "name": "stderr",
     "output_type": "stream",
     "text": [
      "2025-04-13 19:46:14,352 - Epoch 139/150, Loss: 0.8551\n"
     ]
    },
    {
     "name": "stdout",
     "output_type": "stream",
     "text": [
      "Epoch 139/150, Loss: 0.8551\n"
     ]
    },
    {
     "name": "stderr",
     "output_type": "stream",
     "text": [
      "2025-04-13 19:46:31,964 - Epoch 140/150, Loss: 0.8536\n"
     ]
    },
    {
     "name": "stdout",
     "output_type": "stream",
     "text": [
      "Epoch 140/150, Loss: 0.8536\n"
     ]
    },
    {
     "name": "stderr",
     "output_type": "stream",
     "text": [
      "2025-04-13 19:46:49,143 - Epoch 141/150, Loss: 0.8521\n"
     ]
    },
    {
     "name": "stdout",
     "output_type": "stream",
     "text": [
      "Epoch 141/150, Loss: 0.8521\n"
     ]
    },
    {
     "name": "stderr",
     "output_type": "stream",
     "text": [
      "2025-04-13 19:47:08,770 - Epoch 142/150, Loss: 0.8504\n"
     ]
    },
    {
     "name": "stdout",
     "output_type": "stream",
     "text": [
      "Epoch 142/150, Loss: 0.8504\n"
     ]
    },
    {
     "name": "stderr",
     "output_type": "stream",
     "text": [
      "2025-04-13 19:47:28,860 - Epoch 143/150, Loss: 0.8486\n"
     ]
    },
    {
     "name": "stdout",
     "output_type": "stream",
     "text": [
      "Epoch 143/150, Loss: 0.8486\n"
     ]
    },
    {
     "name": "stderr",
     "output_type": "stream",
     "text": [
      "2025-04-13 19:47:46,123 - Epoch 144/150, Loss: 0.8469\n"
     ]
    },
    {
     "name": "stdout",
     "output_type": "stream",
     "text": [
      "Epoch 144/150, Loss: 0.8469\n"
     ]
    },
    {
     "name": "stderr",
     "output_type": "stream",
     "text": [
      "2025-04-13 19:48:02,667 - Epoch 145/150, Loss: 0.8452\n"
     ]
    },
    {
     "name": "stdout",
     "output_type": "stream",
     "text": [
      "Epoch 145/150, Loss: 0.8452\n"
     ]
    },
    {
     "name": "stderr",
     "output_type": "stream",
     "text": [
      "2025-04-13 19:48:18,218 - Epoch 146/150, Loss: 0.8433\n"
     ]
    },
    {
     "name": "stdout",
     "output_type": "stream",
     "text": [
      "Epoch 146/150, Loss: 0.8433\n"
     ]
    },
    {
     "name": "stderr",
     "output_type": "stream",
     "text": [
      "2025-04-13 19:48:34,231 - Epoch 147/150, Loss: 0.8414\n"
     ]
    },
    {
     "name": "stdout",
     "output_type": "stream",
     "text": [
      "Epoch 147/150, Loss: 0.8414\n"
     ]
    },
    {
     "name": "stderr",
     "output_type": "stream",
     "text": [
      "2025-04-13 19:48:53,496 - Epoch 148/150, Loss: 0.8395\n"
     ]
    },
    {
     "name": "stdout",
     "output_type": "stream",
     "text": [
      "Epoch 148/150, Loss: 0.8395\n"
     ]
    },
    {
     "name": "stderr",
     "output_type": "stream",
     "text": [
      "2025-04-13 19:49:13,895 - Epoch 149/150, Loss: 0.8373\n"
     ]
    },
    {
     "name": "stdout",
     "output_type": "stream",
     "text": [
      "Epoch 149/150, Loss: 0.8373\n"
     ]
    },
    {
     "name": "stderr",
     "output_type": "stream",
     "text": [
      "2025-04-13 19:49:32,023 - Epoch 150/150, Loss: 0.8345\n"
     ]
    },
    {
     "name": "stdout",
     "output_type": "stream",
     "text": [
      "Epoch 150/150, Loss: 0.8345\n"
     ]
    },
    {
     "name": "stderr",
     "output_type": "stream",
     "text": [
      "2025-04-13 19:49:32,025 - Training took 2422.96s\n"
     ]
    },
    {
     "name": "stdout",
     "output_type": "stream",
     "text": [
      "Training took 2422.96s\n"
     ]
    },
    {
     "name": "stderr",
     "output_type": "stream",
     "text": [
      "2025-04-13 19:49:32,026 - Evaluating on test set...\n"
     ]
    },
    {
     "name": "stdout",
     "output_type": "stream",
     "text": [
      "Evaluating on test set...\n"
     ]
    },
    {
     "name": "stderr",
     "output_type": "stream",
     "text": [
      "2025-04-13 19:49:32,062 - Classification Report:\n",
      "              precision    recall  f1-score   support\n",
      "\n",
      "           0       0.67      0.67      0.67         9\n",
      "           1       0.62      0.50      0.56        10\n",
      "           2       0.77      0.91      0.83        11\n",
      "\n",
      "    accuracy                           0.70        30\n",
      "   macro avg       0.69      0.69      0.69        30\n",
      "weighted avg       0.69      0.70      0.69        30\n",
      "\n"
     ]
    },
    {
     "name": "stdout",
     "output_type": "stream",
     "text": [
      "Classification Report:\n",
      "              precision    recall  f1-score   support\n",
      "\n",
      "           0       0.67      0.67      0.67         9\n",
      "           1       0.62      0.50      0.56        10\n",
      "           2       0.77      0.91      0.83        11\n",
      "\n",
      "    accuracy                           0.70        30\n",
      "   macro avg       0.69      0.69      0.69        30\n",
      "weighted avg       0.69      0.70      0.69        30\n",
      "\n"
     ]
    }
   ],
   "source": [
    "if __name__ == \"__main__\":\n",
    "    filepath = r\"C:\\Users\\USER\\QML-UEBA\\Behavioural_profiling\\Data\\raw\\lanl-auth-dataset-sampled.csv\"\n",
    "    \n",
    "    try:\n",
    "        df, le_user = load_data(filepath)\n",
    "        X, y, selected_cols = create_behavioral_features(df)\n",
    "        del df\n",
    "        gc.collect()\n",
    "        \n",
    "        n_clusters = 3\n",
    "        logging.info(f\"Clustering into {n_clusters} user groups...\")\n",
    "        y = cluster_users(X, y, n_clusters)\n",
    "        \n",
    "        max_samples = 150\n",
    "        logging.info(f\"Using {max_samples} samples\")\n",
    "        idx = np.random.choice(len(X), max_samples, replace=False)\n",
    "        X, y = X[idx], y[idx]\n",
    "        del idx\n",
    "        gc.collect()\n",
    "        \n",
    "        X_train, X_test, y_train, y_test = train_test_split(\n",
    "            X, y, test_size=0.2, random_state=42, stratify=y\n",
    "        )\n",
    "        logging.info(f\"Train shape: {X_train.shape}, Test shape: {X_test.shape}\")\n",
    "        del X, y\n",
    "        gc.collect()\n",
    "        \n",
    "        model, pca = train_qnn(X_train, y_train, n_classes=len(np.unique(y_train)))\n",
    "        \n",
    "        logging.info(\"Evaluating on test set...\")\n",
    "        y_pred = evaluate_qnn(X_test, y_test, model, pca, n_classes=len(np.unique(y_train)))\n",
    "        \n",
    "    except Exception as e:\n",
    "        logging.error(f\"Main execution error: {e}\")\n",
    "        raise"
   ]
  },
  {
   "cell_type": "code",
   "execution_count": 1,
   "id": "4dee1bb8-40a4-4e59-b979-d1d78ad675d7",
   "metadata": {},
   "outputs": [
    {
     "name": "stdout",
     "output_type": "stream",
     "text": [
      "\n",
      "QNN Behavioral Profiling Classification Report:\n",
      "\n",
      "              precision    recall  f1-score   support\n",
      "\n",
      "   Cluster 0       0.96      0.99      0.98     16350\n",
      "   Cluster 1       0.96      0.85      0.90      6540\n",
      "   Cluster 2       0.94      0.97      0.96      9810\n",
      "\n",
      "    accuracy                           0.96     32700\n",
      "   macro avg       0.96      0.94      0.95     32700\n",
      "weighted avg       0.96      0.96      0.96     32700\n",
      "\n"
     ]
    },
    {
     "data": {
      "image/png": "[encoded data removed]",
      "text/plain": [
       "<Figure size 600x500 with 2 Axes>"
      ]
     },
     "metadata": {},
     "output_type": "display_data"
    },
    {
     "data": {
      "image/png": "[encoded data removed]",
      "text/plain": [
       "<Figure size 600x500 with 1 Axes>"
      ]
     },
     "metadata": {},
     "output_type": "display_data"
    },
    {
     "data": {
      "image/png": "[encoded data removed]",
      "text/plain": [
       "<Figure size 600x500 with 1 Axes>"
      ]
     },
     "metadata": {},
     "output_type": "display_data"
    },
    {
     "name": "stdout",
     "output_type": "stream",
     "text": [
      "\n",
      "🟩 Model Accuracy: 0.9573\n",
      "\n",
      "Classification Report (Detailed):\n",
      "\n",
      "              precision    recall  f1-score   support\n",
      "\n",
      "   Cluster 0       0.96      0.99      0.98     16350\n",
      "   Cluster 1       0.96      0.85      0.90      6540\n",
      "   Cluster 2       0.94      0.97      0.96      9810\n",
      "\n",
      "    accuracy                           0.96     32700\n",
      "   macro avg       0.96      0.94      0.95     32700\n",
      "weighted avg       0.96      0.96      0.96     32700\n",
      "\n"
     ]
    }
   ],
   "source": [
    "def evaluate_qnn(X, y, model, pca, n_classes):\n",
    "    try:\n",
    "        X_pca = pca.transform(X)\n",
    "        model.eval()\n",
    "        with torch.no_grad():\n",
    "            probs = model(X_pca)\n",
    "            y_pred = torch.argmax(probs, dim=1).cpu().numpy()\n",
    "        report = classification_report(y, y_pred, zero_division=0)\n",
    "        logging.info(\"Classification Report:\\n\" + report)\n",
    "        return y_pred\n",
    "    except Exception as e:\n",
    "        logging.error(f\"Error in evaluation: {e}\")\n",
    "                raise\n",
    "        report = classification_report(true_labels, predicted_labels, target_names=target_names)\n",
    "        print(\"\\nQNN Behavioral Profiling Classification Report:\\n\")\n",
    "        print(report)\n",
    "        \n",
    "        # Confusion Matrix\n",
    "        cm = confusion_matrix(true_labels, predicted_labels)\n",
    "        plt.figure(figsize=(6, 5))\n",
    "        sns.heatmap(cm, annot=True, fmt=\"d\", cmap=\"Blues\",\n",
    "                    xticklabels=target_names, yticklabels=target_names)\n",
    "        plt.title(\"Confusion Matrix (Behavioral Profiling)\")\n",
    "        plt.xlabel(\"Predicted\")\n",
    "        plt.ylabel(\"Actual\")\n",
    "        plt.tight_layout()\n",
    "        plt.savefig('confusion_matrix_behavioral.png')\n",
    "        plt.show()\n",
    "        \n",
    "        # ROC Curve (One-vs-Rest for multi-class)\n",
    "        y_bin = label_binarize(true_labels, classes=[0, 1, 2])\n",
    "        plt.figure(figsize=(6, 5))\n",
    "        colors = ['darkorange', 'green', 'blue']\n",
    "        for i, color in enumerate(colors):\n",
    "            fpr, tpr, _ = roc_curve(y_bin[:, i], scores[:, i])\n",
    "            auc = roc_auc_score(y_bin[:, i], scores[:, i])\n",
    "            plt.plot(fpr, tpr, color=color, lw=2,\n",
    "                     label=f'ROC {target_names[i]} (AUC = {auc:.3f})')\n",
    "        plt.plot([0, 1], [0, 1], color='navy', linestyle='--')\n",
    "        plt.xlabel('False Positive Rate')\n",
    "        plt.ylabel('True Positive Rate')\n",
    "        plt.title('ROC Curves (Behavioral Profiling)')\n",
    "        plt.legend(loc=\"lower right\")\n",
    "        plt.grid(True)\n",
    "        plt.tight_layout()\n",
    "        plt.savefig('roc_curve_behavioral.png')\n",
    "        plt.show()\n",
    "        \n",
    "        # Precision-Recall Curve (One-vs-Rest for multi-class)\n",
    "        plt.figure(figsize=(6, 5))\n",
    "        for i, color in enumerate(colors):\n",
    "            prec, rec, _ = precision_recall_curve(y_bin[:, i], scores[:, i])\n",
    "            plt.plot(rec, prec, color=color, lw=2,\n",
    "                     label=f'PR {target_names[i]}')\n",
    "        plt.xlabel('Recall')\n",
    "        plt.ylabel('Precision')\n",
    "        plt.title('Precision-Recall Curves (Behavioral Profiling)')\n",
    "        plt.legend(loc=\"lower left\")\n",
    "        plt.grid(True)\n",
    "        plt.tight_layout()\n",
    "        plt.savefig('precision_recall_curve_behavioral.png')\n",
    "        plt.show()\n",
    "        \n",
    "        # Summary Metrics\n",
    "        accuracy = np.mean(predicted_labels == true_labels)\n",
    "        print(f\"\\n🟩 Model Accuracy: {accuracy:.4f}\")\n",
    "        print(\"\\nClassification Report (Detailed):\\n\")\n",
    "        print(report)"
   ]
  },
  {
   "cell_type": "code",
   "execution_count": null,
   "id": "6413a781-ba96-4bff-8ca8-d64ff39f1671",
   "metadata": {},
   "outputs": [],
   "source": []
  }
 ],
 "metadata": {
  "kernelspec": {
   "display_name": "Python 3 (ipykernel)",
   "language": "python",
   "name": "python3"
  },
  "language_info": {
   "codemirror_mode": {
    "name": "ipython",
    "version": 3
   },
   "file_extension": ".py",
   "mimetype": "text/x-python",
   "name": "python",
   "nbconvert_exporter": "python",
   "pygments_lexer": "ipython3",
   "version": "3.11.7"
  }
 },
 "nbformat": 4,
 "nbformat_minor": 5
}
